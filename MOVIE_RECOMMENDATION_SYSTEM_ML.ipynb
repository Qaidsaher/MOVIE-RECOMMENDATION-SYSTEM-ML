{
  "nbformat": 4,
  "nbformat_minor": 0,
  "metadata": {
    "colab": {
      "provenance": [],
      "gpuType": "T4",
      "authorship_tag": "ABX9TyMJW5GxFDS6MuBCccaRTdu+",
      "include_colab_link": true
    },
    "kernelspec": {
      "name": "python3",
      "display_name": "Python 3"
    },
    "language_info": {
      "name": "python"
    },
    "accelerator": "GPU"
  },
  "cells": [
    {
      "cell_type": "markdown",
      "metadata": {
        "id": "view-in-github",
        "colab_type": "text"
      },
      "source": [
        "<a href=\"https://colab.research.google.com/github/Qaidsaher/MOVIE-RECOMMENDATION-SYSTEM-ML/blob/main/MOVIE_RECOMMENDATION_SYSTEM_ML.ipynb\" target=\"_parent\"><img src=\"https://colab.research.google.com/assets/colab-badge.svg\" alt=\"Open In Colab\"/></a>"
      ]
    },
    {
      "cell_type": "markdown",
      "source": [
        "# Download MovieLens Data"
      ],
      "metadata": {
        "id": "Hfu_RmRxOhZG"
      }
    },
    {
      "cell_type": "code",
      "source": [
        "!wget -nc https://files.grouplens.org/datasets/movielens/ml-latest-small.zip\n",
        "!unzip -o ml-latest-small.zip"
      ],
      "metadata": {
        "colab": {
          "base_uri": "https://localhost:8080/"
        },
        "id": "0SAr1B1WOYp5",
        "outputId": "a566864a-62ab-4e5a-d089-f5c21992c0af"
      },
      "execution_count": 1,
      "outputs": [
        {
          "output_type": "stream",
          "name": "stdout",
          "text": [
            "--2025-01-23 23:12:21--  https://files.grouplens.org/datasets/movielens/ml-latest-small.zip\n",
            "Resolving files.grouplens.org (files.grouplens.org)... 128.101.65.152\n",
            "Connecting to files.grouplens.org (files.grouplens.org)|128.101.65.152|:443... connected.\n",
            "HTTP request sent, awaiting response... 200 OK\n",
            "Length: 978202 (955K) [application/zip]\n",
            "Saving to: ‘ml-latest-small.zip’\n",
            "\n",
            "ml-latest-small.zip 100%[===================>] 955.28K   771KB/s    in 1.2s    \n",
            "\n",
            "2025-01-23 23:12:24 (771 KB/s) - ‘ml-latest-small.zip’ saved [978202/978202]\n",
            "\n",
            "Archive:  ml-latest-small.zip\n",
            "   creating: ml-latest-small/\n",
            "  inflating: ml-latest-small/links.csv  \n",
            "  inflating: ml-latest-small/tags.csv  \n",
            "  inflating: ml-latest-small/ratings.csv  \n",
            "  inflating: ml-latest-small/README.txt  \n",
            "  inflating: ml-latest-small/movies.csv  \n"
          ]
        }
      ]
    },
    {
      "cell_type": "markdown",
      "source": [
        "# Import Libraries"
      ],
      "metadata": {
        "id": "oTpoZJrSOnGi"
      }
    },
    {
      "cell_type": "code",
      "source": [
        "import pandas as pd\n",
        "import numpy as np\n",
        "import matplotlib.pyplot as plt\n",
        "import seaborn as sns\n",
        "from sklearn.model_selection import train_test_split\n",
        "from sklearn.ensemble import RandomForestRegressor\n",
        "from sklearn.svm import SVR\n",
        "from sklearn.metrics import mean_squared_error, mean_absolute_error\n",
        "\n",
        "import warnings\n",
        "warnings.filterwarnings('ignore')"
      ],
      "metadata": {
        "id": "P9CN4sNERton"
      },
      "execution_count": 2,
      "outputs": []
    },
    {
      "cell_type": "markdown",
      "source": [
        "# Load Datasets"
      ],
      "metadata": {
        "id": "8w0NPzE2OtRz"
      }
    },
    {
      "cell_type": "code",
      "source": [
        "movies = pd.read_csv(\"ml-latest-small/movies.csv\")\n",
        "ratings = pd.read_csv(\"ml-latest-small/ratings.csv\")\n",
        "tags = pd.read_csv(\"ml-latest-small/tags.csv\")"
      ],
      "metadata": {
        "id": "VPNSaQUqRu0K"
      },
      "execution_count": 3,
      "outputs": []
    },
    {
      "cell_type": "markdown",
      "source": [
        "# Data Preprocessing"
      ],
      "metadata": {
        "id": "CAq_5IabOykb"
      }
    },
    {
      "cell_type": "markdown",
      "source": [
        "Data Information"
      ],
      "metadata": {
        "id": "pnPi9VQmUils"
      }
    },
    {
      "cell_type": "code",
      "source": [
        "print(\"Movies info:\")\n",
        "print(movies.info())\n",
        "print(\"\\nRatings info:\")\n",
        "print(ratings.info())\n",
        "print(\"\\nTags info:\")\n",
        "print(tags.info())"
      ],
      "metadata": {
        "colab": {
          "base_uri": "https://localhost:8080/"
        },
        "id": "kn3ML9nLRvpR",
        "outputId": "73d322e9-232f-47e0-d388-a139dda7c6ff"
      },
      "execution_count": 4,
      "outputs": [
        {
          "output_type": "stream",
          "name": "stdout",
          "text": [
            "Movies info:\n",
            "<class 'pandas.core.frame.DataFrame'>\n",
            "RangeIndex: 9742 entries, 0 to 9741\n",
            "Data columns (total 3 columns):\n",
            " #   Column   Non-Null Count  Dtype \n",
            "---  ------   --------------  ----- \n",
            " 0   movieId  9742 non-null   int64 \n",
            " 1   title    9742 non-null   object\n",
            " 2   genres   9742 non-null   object\n",
            "dtypes: int64(1), object(2)\n",
            "memory usage: 228.5+ KB\n",
            "None\n",
            "\n",
            "Ratings info:\n",
            "<class 'pandas.core.frame.DataFrame'>\n",
            "RangeIndex: 100836 entries, 0 to 100835\n",
            "Data columns (total 4 columns):\n",
            " #   Column     Non-Null Count   Dtype  \n",
            "---  ------     --------------   -----  \n",
            " 0   userId     100836 non-null  int64  \n",
            " 1   movieId    100836 non-null  int64  \n",
            " 2   rating     100836 non-null  float64\n",
            " 3   timestamp  100836 non-null  int64  \n",
            "dtypes: float64(1), int64(3)\n",
            "memory usage: 3.1 MB\n",
            "None\n",
            "\n",
            "Tags info:\n",
            "<class 'pandas.core.frame.DataFrame'>\n",
            "RangeIndex: 3683 entries, 0 to 3682\n",
            "Data columns (total 4 columns):\n",
            " #   Column     Non-Null Count  Dtype \n",
            "---  ------     --------------  ----- \n",
            " 0   userId     3683 non-null   int64 \n",
            " 1   movieId    3683 non-null   int64 \n",
            " 2   tag        3683 non-null   object\n",
            " 3   timestamp  3683 non-null   int64 \n",
            "dtypes: int64(3), object(1)\n",
            "memory usage: 115.2+ KB\n",
            "None\n"
          ]
        }
      ]
    },
    {
      "cell_type": "markdown",
      "source": [
        "Check for missing values"
      ],
      "metadata": {
        "id": "Z_2LZwK0UQsN"
      }
    },
    {
      "cell_type": "code",
      "source": [
        "print(\"\\nMissing values in Movies dataset:\")\n",
        "print(movies.isnull().sum())\n",
        "print(\"\\nMissing values in Ratings dataset:\")\n",
        "print(ratings.isnull().sum())\n",
        "print(\"\\nMissing values in Tags dataset:\")\n",
        "print(tags.isnull().sum())\n"
      ],
      "metadata": {
        "colab": {
          "base_uri": "https://localhost:8080/"
        },
        "id": "4NaCVRAmURq9",
        "outputId": "468422d4-2150-4642-e03b-997de1d39c52"
      },
      "execution_count": 5,
      "outputs": [
        {
          "output_type": "stream",
          "name": "stdout",
          "text": [
            "\n",
            "Missing values in Movies dataset:\n",
            "movieId    0\n",
            "title      0\n",
            "genres     0\n",
            "dtype: int64\n",
            "\n",
            "Missing values in Ratings dataset:\n",
            "userId       0\n",
            "movieId      0\n",
            "rating       0\n",
            "timestamp    0\n",
            "dtype: int64\n",
            "\n",
            "Missing values in Tags dataset:\n",
            "userId       0\n",
            "movieId      0\n",
            "tag          0\n",
            "timestamp    0\n",
            "dtype: int64\n"
          ]
        }
      ]
    },
    {
      "cell_type": "markdown",
      "source": [
        "Ensure data types are correct"
      ],
      "metadata": {
        "id": "FtDuOJK2UZ88"
      }
    },
    {
      "cell_type": "code",
      "source": [
        "movies['movieId'] = movies['movieId'].astype(int)\n",
        "ratings['userId'] = ratings['userId'].astype(int)\n",
        "ratings['movieId'] = ratings['movieId'].astype(int)\n",
        "ratings['rating'] = ratings['rating'].astype(float)\n",
        "tags['userId'] = tags['userId'].astype(int)\n",
        "tags['movieId'] = tags['movieId'].astype(int)"
      ],
      "metadata": {
        "id": "dNOKz7cbUW3M"
      },
      "execution_count": 6,
      "outputs": []
    },
    {
      "cell_type": "markdown",
      "source": [
        " Merge ratings with movies on 'movieId'"
      ],
      "metadata": {
        "id": "P9VxaoVHVI3b"
      }
    },
    {
      "cell_type": "code",
      "source": [
        "ratings_movies = pd.merge(ratings, movies, on='movieId', how='left')"
      ],
      "metadata": {
        "id": "xAgu4pKTVG7m"
      },
      "execution_count": 7,
      "outputs": []
    },
    {
      "cell_type": "markdown",
      "source": [
        "Merge with tags on both 'userId' and 'movieId' (left join to retain all ratings)"
      ],
      "metadata": {
        "id": "sgZvc2-EVLZP"
      }
    },
    {
      "cell_type": "code",
      "source": [
        "data = pd.merge(ratings_movies, tags, on=['userId', 'movieId'], how='left')\n",
        "\n",
        "print(\"\\nMerged Dataset Info:\")\n",
        "print(data.info())"
      ],
      "metadata": {
        "colab": {
          "base_uri": "https://localhost:8080/"
        },
        "id": "QnLxWIWKVM9G",
        "outputId": "da4119af-aa33-448e-f3df-d92124fe58a4"
      },
      "execution_count": 8,
      "outputs": [
        {
          "output_type": "stream",
          "name": "stdout",
          "text": [
            "\n",
            "Merged Dataset Info:\n",
            "<class 'pandas.core.frame.DataFrame'>\n",
            "RangeIndex: 102677 entries, 0 to 102676\n",
            "Data columns (total 8 columns):\n",
            " #   Column       Non-Null Count   Dtype  \n",
            "---  ------       --------------   -----  \n",
            " 0   userId       102677 non-null  int64  \n",
            " 1   movieId      102677 non-null  int64  \n",
            " 2   rating       102677 non-null  float64\n",
            " 3   timestamp_x  102677 non-null  int64  \n",
            " 4   title        102677 non-null  object \n",
            " 5   genres       102677 non-null  object \n",
            " 6   tag          3476 non-null    object \n",
            " 7   timestamp_y  3476 non-null    float64\n",
            "dtypes: float64(2), int64(3), object(3)\n",
            "memory usage: 6.3+ MB\n",
            "None\n"
          ]
        }
      ]
    },
    {
      "cell_type": "markdown",
      "source": [
        "# Exploratory Data Analysis (EDA)"
      ],
      "metadata": {
        "id": "IUVYHrnuS-mI"
      }
    },
    {
      "cell_type": "markdown",
      "source": [
        "**Distribution of Movie Ratings**"
      ],
      "metadata": {
        "id": "I9slb-xrSxtV"
      }
    },
    {
      "cell_type": "code",
      "source": [
        "plt.figure(figsize=(8,5))\n",
        "sns.histplot(data['rating'], bins=10, kde=False, color='skyblue')\n",
        "plt.title(\"Distribution of Movie Ratings\")\n",
        "plt.xlabel(\"Rating\")\n",
        "plt.ylabel(\"Count\")\n",
        "plt.show()"
      ],
      "metadata": {
        "colab": {
          "base_uri": "https://localhost:8080/",
          "height": 487
        },
        "id": "wxoNaQOkVS1k",
        "outputId": "6bf8544d-ec9c-458c-e2f9-c60e062a667b"
      },
      "execution_count": 9,
      "outputs": [
        {
          "output_type": "display_data",
          "data": {
            "text/plain": [
              "<Figure size 800x500 with 1 Axes>"
            ],
            "image/png": "[encoded data removed]"
          },
          "metadata": {}
        }
      ]
    },
    {
      "cell_type": "markdown",
      "source": [
        "**Top 10 Most-Rated Movies**"
      ],
      "metadata": {
        "id": "gXKJLJeYS57Y"
      }
    },
    {
      "cell_type": "code",
      "source": [
        "most_rated = data['title'].value_counts().head(10)\n",
        "print(\"\\nTop 10 Most-Rated Movies:\")\n",
        "print(most_rated)\n",
        "\n",
        "plt.figure(figsize=(10,6))\n",
        "sns.barplot(x=most_rated.values, y=most_rated.index, palette='viridis')\n",
        "plt.title(\"Top 10 Most-Rated Movies\")\n",
        "plt.xlabel(\"Number of Ratings\")\n",
        "plt.ylabel(\"Movie Title\")\n",
        "plt.show()"
      ],
      "metadata": {
        "colab": {
          "base_uri": "https://localhost:8080/",
          "height": 819
        },
        "id": "nCFX_4V0VWDm",
        "outputId": "e95de11c-6c0c-48f8-a30c-1bacdf1635ea"
      },
      "execution_count": 10,
      "outputs": [
        {
          "output_type": "stream",
          "name": "stdout",
          "text": [
            "\n",
            "Top 10 Most-Rated Movies:\n",
            "title\n",
            "Pulp Fiction (1994)                          484\n",
            "Forrest Gump (1994)                          335\n",
            "Shawshank Redemption, The (1994)             319\n",
            "Silence of the Lambs, The (1991)             283\n",
            "Matrix, The (1999)                           280\n",
            "Fight Club (1999)                            268\n",
            "Star Wars: Episode IV - A New Hope (1977)    262\n",
            "Braveheart (1995)                            245\n",
            "Jurassic Park (1993)                         238\n",
            "Terminator 2: Judgment Day (1991)            229\n",
            "Name: count, dtype: int64\n"
          ]
        },
        {
          "output_type": "display_data",
          "data": {
            "text/plain": [
              "<Figure size 1000x600 with 1 Axes>"
            ],
            "image/png": "[encoded data removed]"
          },
          "metadata": {}
        }
      ]
    },
    {
      "cell_type": "markdown",
      "source": [
        "**Correlation Between User Ratings and Movie Genres**"
      ],
      "metadata": {
        "id": "w0QtPqkOQSmo"
      }
    },
    {
      "cell_type": "code",
      "source": [
        "genres_expanded = data['genres'].str.get_dummies('|')\n",
        "data_genres = pd.concat([data, genres_expanded], axis=1)\n",
        "\n",
        "# Calculate correlation between genres and ratings\n",
        "genre_corr = genres_expanded.corrwith(data['rating']).sort_values(ascending=False)\n",
        "print(\"\\nCorrelation of genres with rating:\")\n",
        "print(genre_corr)\n",
        "\n",
        "# Plotting the correlation\n",
        "plt.figure(figsize=(12,8))\n",
        "sns.barplot(x=genre_corr.values, y=genre_corr.index, palette='coolwarm')\n",
        "plt.title('Correlation Between Genres and User Ratings')\n",
        "plt.xlabel('Correlation Coefficient')\n",
        "plt.ylabel('Genre')\n",
        "plt.show()"
      ],
      "metadata": {
        "colab": {
          "base_uri": "https://localhost:8080/",
          "height": 1000
        },
        "id": "LJ97miidQVK0",
        "outputId": "d7b2a47d-feed-46b9-da76-4b532e857cd8"
      },
      "execution_count": 11,
      "outputs": [
        {
          "output_type": "stream",
          "name": "stdout",
          "text": [
            "\n",
            "Correlation of genres with rating:\n",
            "Drama                 0.130071\n",
            "Crime                 0.074573\n",
            "War                   0.063663\n",
            "Mystery               0.036980\n",
            "Film-Noir             0.036156\n",
            "Animation             0.033596\n",
            "Documentary           0.031165\n",
            "IMAX                  0.022639\n",
            "Western               0.012187\n",
            "Musical               0.010890\n",
            "Thriller              0.002327\n",
            "Adventure             0.000890\n",
            "(no genres listed)    0.000331\n",
            "Romance              -0.001203\n",
            "Fantasy              -0.006181\n",
            "Sci-Fi               -0.018890\n",
            "Children             -0.029350\n",
            "Action               -0.034342\n",
            "Horror               -0.064368\n",
            "Comedy               -0.087764\n",
            "dtype: float64\n"
          ]
        },
        {
          "output_type": "display_data",
          "data": {
            "text/plain": [
              "<Figure size 1200x800 with 1 Axes>"
            ],
            "image/png": "[encoded data removed]"
          },
          "metadata": {}
        }
      ]
    },
    {
      "cell_type": "markdown",
      "source": [
        "# Feature Engineering"
      ],
      "metadata": {
        "id": "knpq4yx9QYt0"
      }
    },
    {
      "cell_type": "markdown",
      "source": [
        "**Genre Matrix (One-Hot Encoding) for Each Movie**"
      ],
      "metadata": {
        "id": "mTEyWx4cQdiY"
      }
    },
    {
      "cell_type": "code",
      "source": [
        "unique_movies = movies.copy()\n",
        "genre_matrix = unique_movies['genres'].str.get_dummies('|')\n",
        "genre_matrix['movieId'] = unique_movies['movieId']"
      ],
      "metadata": {
        "id": "HUcxq1fdRBPJ"
      },
      "execution_count": 12,
      "outputs": []
    },
    {
      "cell_type": "markdown",
      "source": [
        "**Calculate Average Ratings for Each Movie**"
      ],
      "metadata": {
        "id": "dwDGyJDEQgMD"
      }
    },
    {
      "cell_type": "code",
      "source": [
        "average_ratings = data.groupby('movieId')['rating'].mean().reset_index()\n",
        "average_ratings.rename(columns={'rating':'avg_rating'}, inplace=True)\n",
        "unique_movies = pd.merge(unique_movies, average_ratings, on='movieId', how='left')"
      ],
      "metadata": {
        "id": "yGOqxQB2RFau"
      },
      "execution_count": 13,
      "outputs": []
    },
    {
      "cell_type": "markdown",
      "source": [
        "**Generate User-Movie Interaction Matrix (Optional for EDA)**"
      ],
      "metadata": {
        "id": "Ho1CvyOuQkRW"
      }
    },
    {
      "cell_type": "code",
      "source": [
        "user_movie_matrix = data.pivot_table(index='userId', columns='movieId', values='rating')\n",
        "print(\"\\nUser-Movie Matrix Shape:\", user_movie_matrix.shape)"
      ],
      "metadata": {
        "colab": {
          "base_uri": "https://localhost:8080/"
        },
        "id": "44e0yrcHRImz",
        "outputId": "67ee1f19-264a-4686-ff16-5ec908ca4aab"
      },
      "execution_count": 14,
      "outputs": [
        {
          "output_type": "stream",
          "name": "stdout",
          "text": [
            "\n",
            "User-Movie Matrix Shape: (610, 9724)\n"
          ]
        }
      ]
    },
    {
      "cell_type": "markdown",
      "source": [
        "**Title Length**"
      ],
      "metadata": {
        "id": "u95587PXQqa-"
      }
    },
    {
      "cell_type": "code",
      "source": [
        "unique_movies['title_length'] = unique_movies['title'].apply(lambda x: len(x.split()))\n",
        "print(\"\\nAdded 'title_length' feature to movies dataset.\")\n",
        "display(unique_movies[['title', 'title_length']].head())"
      ],
      "metadata": {
        "colab": {
          "base_uri": "https://localhost:8080/",
          "height": 242
        },
        "id": "Zit05frGRLue",
        "outputId": "b4122b99-ce21-41ef-d3b6-a757f0d538c1"
      },
      "execution_count": 15,
      "outputs": [
        {
          "output_type": "stream",
          "name": "stdout",
          "text": [
            "\n",
            "Added 'title_length' feature to movies dataset.\n"
          ]
        },
        {
          "output_type": "display_data",
          "data": {
            "text/plain": [
              "                                title  title_length\n",
              "0                    Toy Story (1995)             3\n",
              "1                      Jumanji (1995)             2\n",
              "2             Grumpier Old Men (1995)             4\n",
              "3            Waiting to Exhale (1995)             4\n",
              "4  Father of the Bride Part II (1995)             7"
            ],
            "text/html": [
              "\n",
              "  <div id=\"df-189f1033-bf7e-4e21-9c85-9d17b23081de\" class=\"colab-df-container\">\n",
              "    <div>\n",
              "<style scoped>\n",
              "    .dataframe tbody tr th:only-of-type {\n",
              "        vertical-align: middle;\n",
              "    }\n",
              "\n",
              "    .dataframe tbody tr th {\n",
              "        vertical-align: top;\n",
              "    }\n",
              "\n",
              "    .dataframe thead th {\n",
              "        text-align: right;\n",
              "    }\n",
              "</style>\n",
              "<table border=\"1\" class=\"dataframe\">\n",
              "  <thead>\n",
              "    <tr style=\"text-align: right;\">\n",
              "      <th></th>\n",
              "      <th>title</th>\n",
              "      <th>title_length</th>\n",
              "    </tr>\n",
              "  </thead>\n",
              "  <tbody>\n",
              "    <tr>\n",
              "      <th>0</th>\n",
              "      <td>Toy Story (1995)</td>\n",
              "      <td>3</td>\n",
              "    </tr>\n",
              "    <tr>\n",
              "      <th>1</th>\n",
              "      <td>Jumanji (1995)</td>\n",
              "      <td>2</td>\n",
              "    </tr>\n",
              "    <tr>\n",
              "      <th>2</th>\n",
              "      <td>Grumpier Old Men (1995)</td>\n",
              "      <td>4</td>\n",
              "    </tr>\n",
              "    <tr>\n",
              "      <th>3</th>\n",
              "      <td>Waiting to Exhale (1995)</td>\n",
              "      <td>4</td>\n",
              "    </tr>\n",
              "    <tr>\n",
              "      <th>4</th>\n",
              "      <td>Father of the Bride Part II (1995)</td>\n",
              "      <td>7</td>\n",
              "    </tr>\n",
              "  </tbody>\n",
              "</table>\n",
              "</div>\n",
              "    <div class=\"colab-df-buttons\">\n",
              "\n",
              "  <div class=\"colab-df-container\">\n",
              "    <button class=\"colab-df-convert\" onclick=\"convertToInteractive('df-189f1033-bf7e-4e21-9c85-9d17b23081de')\"\n",
              "            title=\"Convert this dataframe to an interactive table.\"\n",
              "            style=\"display:none;\">\n",
              "\n",
              "  <svg xmlns=\"http://www.w3.org/2000/svg\" height=\"24px\" viewBox=\"0 -960 960 960\">\n",
              "    <path d=\"M120-120v-720h720v720H120Zm60-500h600v-160H180v160Zm220 220h160v-160H400v160Zm0 220h160v-160H400v160ZM180-400h160v-160H180v160Zm440 0h160v-160H620v160ZM180-180h160v-160H180v160Zm440 0h160v-160H620v160Z\"/>\n",
              "  </svg>\n",
              "    </button>\n",
              "\n",
              "  <style>\n",
              "    .colab-df-container {\n",
              "      display:flex;\n",
              "      gap: 12px;\n",
              "    }\n",
              "\n",
              "    .colab-df-convert {\n",
              "      background-color: #E8F0FE;\n",
              "      border: none;\n",
              "      border-radius: 50%;\n",
              "      cursor: pointer;\n",
              "      display: none;\n",
              "      fill: #1967D2;\n",
              "      height: 32px;\n",
              "      padding: 0 0 0 0;\n",
              "      width: 32px;\n",
              "    }\n",
              "\n",
              "    .colab-df-convert:hover {\n",
              "      background-color: #E2EBFA;\n",
              "      box-shadow: 0px 1px 2px rgba(60, 64, 67, 0.3), 0px 1px 3px 1px rgba(60, 64, 67, 0.15);\n",
              "      fill: #174EA6;\n",
              "    }\n",
              "\n",
              "    .colab-df-buttons div {\n",
              "      margin-bottom: 4px;\n",
              "    }\n",
              "\n",
              "    [theme=dark] .colab-df-convert {\n",
              "      background-color: #3B4455;\n",
              "      fill: #D2E3FC;\n",
              "    }\n",
              "\n",
              "    [theme=dark] .colab-df-convert:hover {\n",
              "      background-color: #434B5C;\n",
              "      box-shadow: 0px 1px 3px 1px rgba(0, 0, 0, 0.15);\n",
              "      filter: drop-shadow(0px 1px 2px rgba(0, 0, 0, 0.3));\n",
              "      fill: #FFFFFF;\n",
              "    }\n",
              "  </style>\n",
              "\n",
              "    <script>\n",
              "      const buttonEl =\n",
              "        document.querySelector('#df-189f1033-bf7e-4e21-9c85-9d17b23081de button.colab-df-convert');\n",
              "      buttonEl.style.display =\n",
              "        google.colab.kernel.accessAllowed ? 'block' : 'none';\n",
              "\n",
              "      async function convertToInteractive(key) {\n",
              "        const element = document.querySelector('#df-189f1033-bf7e-4e21-9c85-9d17b23081de');\n",
              "        const dataTable =\n",
              "          await google.colab.kernel.invokeFunction('convertToInteractive',\n",
              "                                                    [key], {});\n",
              "        if (!dataTable) return;\n",
              "\n",
              "        const docLinkHtml = 'Like what you see? Visit the ' +\n",
              "          '<a target=\"_blank\" href=https://colab.research.google.com/notebooks/data_table.ipynb>data table notebook</a>'\n",
              "          + ' to learn more about interactive tables.';\n",
              "        element.innerHTML = '';\n",
              "        dataTable['output_type'] = 'display_data';\n",
              "        await google.colab.output.renderOutput(dataTable, element);\n",
              "        const docLink = document.createElement('div');\n",
              "        docLink.innerHTML = docLinkHtml;\n",
              "        element.appendChild(docLink);\n",
              "      }\n",
              "    </script>\n",
              "  </div>\n",
              "\n",
              "\n",
              "<div id=\"df-b2e80694-8a7b-4870-82fe-4cbe72c901d7\">\n",
              "  <button class=\"colab-df-quickchart\" onclick=\"quickchart('df-b2e80694-8a7b-4870-82fe-4cbe72c901d7')\"\n",
              "            title=\"Suggest charts\"\n",
              "            style=\"display:none;\">\n",
              "\n",
              "<svg xmlns=\"http://www.w3.org/2000/svg\" height=\"24px\"viewBox=\"0 0 24 24\"\n",
              "     width=\"24px\">\n",
              "    <g>\n",
              "        <path d=\"M19 3H5c-1.1 0-2 .9-2 2v14c0 1.1.9 2 2 2h14c1.1 0 2-.9 2-2V5c0-1.1-.9-2-2-2zM9 17H7v-7h2v7zm4 0h-2V7h2v10zm4 0h-2v-4h2v4z\"/>\n",
              "    </g>\n",
              "</svg>\n",
              "  </button>\n",
              "\n",
              "<style>\n",
              "  .colab-df-quickchart {\n",
              "      --bg-color: #E8F0FE;\n",
              "      --fill-color: #1967D2;\n",
              "      --hover-bg-color: #E2EBFA;\n",
              "      --hover-fill-color: #174EA6;\n",
              "      --disabled-fill-color: #AAA;\n",
              "      --disabled-bg-color: #DDD;\n",
              "  }\n",
              "\n",
              "  [theme=dark] .colab-df-quickchart {\n",
              "      --bg-color: #3B4455;\n",
              "      --fill-color: #D2E3FC;\n",
              "      --hover-bg-color: #434B5C;\n",
              "      --hover-fill-color: #FFFFFF;\n",
              "      --disabled-bg-color: #3B4455;\n",
              "      --disabled-fill-color: #666;\n",
              "  }\n",
              "\n",
              "  .colab-df-quickchart {\n",
              "    background-color: var(--bg-color);\n",
              "    border: none;\n",
              "    border-radius: 50%;\n",
              "    cursor: pointer;\n",
              "    display: none;\n",
              "    fill: var(--fill-color);\n",
              "    height: 32px;\n",
              "    padding: 0;\n",
              "    width: 32px;\n",
              "  }\n",
              "\n",
              "  .colab-df-quickchart:hover {\n",
              "    background-color: var(--hover-bg-color);\n",
              "    box-shadow: 0 1px 2px rgba(60, 64, 67, 0.3), 0 1px 3px 1px rgba(60, 64, 67, 0.15);\n",
              "    fill: var(--button-hover-fill-color);\n",
              "  }\n",
              "\n",
              "  .colab-df-quickchart-complete:disabled,\n",
              "  .colab-df-quickchart-complete:disabled:hover {\n",
              "    background-color: var(--disabled-bg-color);\n",
              "    fill: var(--disabled-fill-color);\n",
              "    box-shadow: none;\n",
              "  }\n",
              "\n",
              "  .colab-df-spinner {\n",
              "    border: 2px solid var(--fill-color);\n",
              "    border-color: transparent;\n",
              "    border-bottom-color: var(--fill-color);\n",
              "    animation:\n",
              "      spin 1s steps(1) infinite;\n",
              "  }\n",
              "\n",
              "  @keyframes spin {\n",
              "    0% {\n",
              "      border-color: transparent;\n",
              "      border-bottom-color: var(--fill-color);\n",
              "      border-left-color: var(--fill-color);\n",
              "    }\n",
              "    20% {\n",
              "      border-color: transparent;\n",
              "      border-left-color: var(--fill-color);\n",
              "      border-top-color: var(--fill-color);\n",
              "    }\n",
              "    30% {\n",
              "      border-color: transparent;\n",
              "      border-left-color: var(--fill-color);\n",
              "      border-top-color: var(--fill-color);\n",
              "      border-right-color: var(--fill-color);\n",
              "    }\n",
              "    40% {\n",
              "      border-color: transparent;\n",
              "      border-right-color: var(--fill-color);\n",
              "      border-top-color: var(--fill-color);\n",
              "    }\n",
              "    60% {\n",
              "      border-color: transparent;\n",
              "      border-right-color: var(--fill-color);\n",
              "    }\n",
              "    80% {\n",
              "      border-color: transparent;\n",
              "      border-right-color: var(--fill-color);\n",
              "      border-bottom-color: var(--fill-color);\n",
              "    }\n",
              "    90% {\n",
              "      border-color: transparent;\n",
              "      border-bottom-color: var(--fill-color);\n",
              "    }\n",
              "  }\n",
              "</style>\n",
              "\n",
              "  <script>\n",
              "    async function quickchart(key) {\n",
              "      const quickchartButtonEl =\n",
              "        document.querySelector('#' + key + ' button');\n",
              "      quickchartButtonEl.disabled = true;  // To prevent multiple clicks.\n",
              "      quickchartButtonEl.classList.add('colab-df-spinner');\n",
              "      try {\n",
              "        const charts = await google.colab.kernel.invokeFunction(\n",
              "            'suggestCharts', [key], {});\n",
              "      } catch (error) {\n",
              "        console.error('Error during call to suggestCharts:', error);\n",
              "      }\n",
              "      quickchartButtonEl.classList.remove('colab-df-spinner');\n",
              "      quickchartButtonEl.classList.add('colab-df-quickchart-complete');\n",
              "    }\n",
              "    (() => {\n",
              "      let quickchartButtonEl =\n",
              "        document.querySelector('#df-b2e80694-8a7b-4870-82fe-4cbe72c901d7 button');\n",
              "      quickchartButtonEl.style.display =\n",
              "        google.colab.kernel.accessAllowed ? 'block' : 'none';\n",
              "    })();\n",
              "  </script>\n",
              "</div>\n",
              "\n",
              "    </div>\n",
              "  </div>\n"
            ],
            "application/vnd.google.colaboratory.intrinsic+json": {
              "type": "dataframe",
              "summary": "{\n  \"name\": \"display(unique_movies[['title', 'title_length']]\",\n  \"rows\": 5,\n  \"fields\": [\n    {\n      \"column\": \"title\",\n      \"properties\": {\n        \"dtype\": \"string\",\n        \"num_unique_values\": 5,\n        \"samples\": [\n          \"Jumanji (1995)\",\n          \"Father of the Bride Part II (1995)\",\n          \"Grumpier Old Men (1995)\"\n        ],\n        \"semantic_type\": \"\",\n        \"description\": \"\"\n      }\n    },\n    {\n      \"column\": \"title_length\",\n      \"properties\": {\n        \"dtype\": \"number\",\n        \"std\": 1,\n        \"min\": 2,\n        \"max\": 7,\n        \"num_unique_values\": 4,\n        \"samples\": [\n          2,\n          7,\n          3\n        ],\n        \"semantic_type\": \"\",\n        \"description\": \"\"\n      }\n    }\n  ]\n}"
            }
          },
          "metadata": {}
        }
      ]
    },
    {
      "cell_type": "markdown",
      "source": [
        "**Feature Consolidation** *italicized text*"
      ],
      "metadata": {
        "id": "DCVjTkdUQwxD"
      }
    },
    {
      "cell_type": "code",
      "source": [
        "features_full = pd.merge(data, genre_matrix, on='movieId', how='left')\n",
        "features_full = pd.merge(features_full, average_ratings, on='movieId', how='left')\n",
        "features_full = pd.merge(features_full, unique_movies[['movieId', 'title_length']], on='movieId', how='left')\n"
      ],
      "metadata": {
        "id": "XdBza6Z6ROl4"
      },
      "execution_count": 16,
      "outputs": []
    },
    {
      "cell_type": "markdown",
      "source": [
        "**Create user-based features: mean rating & rating count**"
      ],
      "metadata": {
        "id": "E-gePMxXQ-I8"
      }
    },
    {
      "cell_type": "code",
      "source": [
        "user_stats = features_full.groupby('userId')['rating'].agg(['mean','count']).reset_index()\n",
        "user_stats.rename(columns={'mean':'user_mean_rating','count':'user_rating_count'}, inplace=True)\n",
        "features_full = pd.merge(features_full, user_stats, on='userId', how='left')\n",
        "print(\"\\nConsolidated Features DataFrame:\")\n",
        "display(features_full.head())"
      ],
      "metadata": {
        "colab": {
          "base_uri": "https://localhost:8080/",
          "height": 500
        },
        "id": "oiw1BomdRRKX",
        "outputId": "0a3e28e9-7d2f-42d3-fa69-5aaa1585ae9e"
      },
      "execution_count": 17,
      "outputs": [
        {
          "output_type": "stream",
          "name": "stdout",
          "text": [
            "\n",
            "Consolidated Features DataFrame:\n"
          ]
        },
        {
          "output_type": "display_data",
          "data": {
            "text/plain": [
              "   userId  movieId  rating  timestamp_x                        title  \\\n",
              "0       1        1     4.0    964982703             Toy Story (1995)   \n",
              "1       1        3     4.0    964981247      Grumpier Old Men (1995)   \n",
              "2       1        6     4.0    964982224                  Heat (1995)   \n",
              "3       1       47     5.0    964983815  Seven (a.k.a. Se7en) (1995)   \n",
              "4       1       50     5.0    964982931   Usual Suspects, The (1995)   \n",
              "\n",
              "                                        genres  tag  timestamp_y  \\\n",
              "0  Adventure|Animation|Children|Comedy|Fantasy  NaN          NaN   \n",
              "1                               Comedy|Romance  NaN          NaN   \n",
              "2                        Action|Crime|Thriller  NaN          NaN   \n",
              "3                             Mystery|Thriller  NaN          NaN   \n",
              "4                       Crime|Mystery|Thriller  NaN          NaN   \n",
              "\n",
              "   (no genres listed)  Action  ...  Mystery  Romance  Sci-Fi  Thriller  War  \\\n",
              "0                   0       0  ...        0        0       0         0    0   \n",
              "1                   0       0  ...        0        1       0         0    0   \n",
              "2                   0       1  ...        0        0       0         1    0   \n",
              "3                   0       0  ...        1        0       0         1    0   \n",
              "4                   0       0  ...        1        0       0         1    0   \n",
              "\n",
              "   Western  avg_rating  title_length  user_mean_rating  user_rating_count  \n",
              "0        0    3.920930             3          4.366379                232  \n",
              "1        0    3.245283             4          4.366379                232  \n",
              "2        0    3.946078             2          4.366379                232  \n",
              "3        0    3.980392             4          4.366379                232  \n",
              "4        0    4.252404             4          4.366379                232  \n",
              "\n",
              "[5 rows x 32 columns]"
            ],
            "text/html": [
              "\n",
              "  <div id=\"df-36664369-96cf-455a-8705-311f5c83e7e7\" class=\"colab-df-container\">\n",
              "    <div>\n",
              "<style scoped>\n",
              "    .dataframe tbody tr th:only-of-type {\n",
              "        vertical-align: middle;\n",
              "    }\n",
              "\n",
              "    .dataframe tbody tr th {\n",
              "        vertical-align: top;\n",
              "    }\n",
              "\n",
              "    .dataframe thead th {\n",
              "        text-align: right;\n",
              "    }\n",
              "</style>\n",
              "<table border=\"1\" class=\"dataframe\">\n",
              "  <thead>\n",
              "    <tr style=\"text-align: right;\">\n",
              "      <th></th>\n",
              "      <th>userId</th>\n",
              "      <th>movieId</th>\n",
              "      <th>rating</th>\n",
              "      <th>timestamp_x</th>\n",
              "      <th>title</th>\n",
              "      <th>genres</th>\n",
              "      <th>tag</th>\n",
              "      <th>timestamp_y</th>\n",
              "      <th>(no genres listed)</th>\n",
              "      <th>Action</th>\n",
              "      <th>...</th>\n",
              "      <th>Mystery</th>\n",
              "      <th>Romance</th>\n",
              "      <th>Sci-Fi</th>\n",
              "      <th>Thriller</th>\n",
              "      <th>War</th>\n",
              "      <th>Western</th>\n",
              "      <th>avg_rating</th>\n",
              "      <th>title_length</th>\n",
              "      <th>user_mean_rating</th>\n",
              "      <th>user_rating_count</th>\n",
              "    </tr>\n",
              "  </thead>\n",
              "  <tbody>\n",
              "    <tr>\n",
              "      <th>0</th>\n",
              "      <td>1</td>\n",
              "      <td>1</td>\n",
              "      <td>4.0</td>\n",
              "      <td>964982703</td>\n",
              "      <td>Toy Story (1995)</td>\n",
              "      <td>Adventure|Animation|Children|Comedy|Fantasy</td>\n",
              "      <td>NaN</td>\n",
              "      <td>NaN</td>\n",
              "      <td>0</td>\n",
              "      <td>0</td>\n",
              "      <td>...</td>\n",
              "      <td>0</td>\n",
              "      <td>0</td>\n",
              "      <td>0</td>\n",
              "      <td>0</td>\n",
              "      <td>0</td>\n",
              "      <td>0</td>\n",
              "      <td>3.920930</td>\n",
              "      <td>3</td>\n",
              "      <td>4.366379</td>\n",
              "      <td>232</td>\n",
              "    </tr>\n",
              "    <tr>\n",
              "      <th>1</th>\n",
              "      <td>1</td>\n",
              "      <td>3</td>\n",
              "      <td>4.0</td>\n",
              "      <td>964981247</td>\n",
              "      <td>Grumpier Old Men (1995)</td>\n",
              "      <td>Comedy|Romance</td>\n",
              "      <td>NaN</td>\n",
              "      <td>NaN</td>\n",
              "      <td>0</td>\n",
              "      <td>0</td>\n",
              "      <td>...</td>\n",
              "      <td>0</td>\n",
              "      <td>1</td>\n",
              "      <td>0</td>\n",
              "      <td>0</td>\n",
              "      <td>0</td>\n",
              "      <td>0</td>\n",
              "      <td>3.245283</td>\n",
              "      <td>4</td>\n",
              "      <td>4.366379</td>\n",
              "      <td>232</td>\n",
              "    </tr>\n",
              "    <tr>\n",
              "      <th>2</th>\n",
              "      <td>1</td>\n",
              "      <td>6</td>\n",
              "      <td>4.0</td>\n",
              "      <td>964982224</td>\n",
              "      <td>Heat (1995)</td>\n",
              "      <td>Action|Crime|Thriller</td>\n",
              "      <td>NaN</td>\n",
              "      <td>NaN</td>\n",
              "      <td>0</td>\n",
              "      <td>1</td>\n",
              "      <td>...</td>\n",
              "      <td>0</td>\n",
              "      <td>0</td>\n",
              "      <td>0</td>\n",
              "      <td>1</td>\n",
              "      <td>0</td>\n",
              "      <td>0</td>\n",
              "      <td>3.946078</td>\n",
              "      <td>2</td>\n",
              "      <td>4.366379</td>\n",
              "      <td>232</td>\n",
              "    </tr>\n",
              "    <tr>\n",
              "      <th>3</th>\n",
              "      <td>1</td>\n",
              "      <td>47</td>\n",
              "      <td>5.0</td>\n",
              "      <td>964983815</td>\n",
              "      <td>Seven (a.k.a. Se7en) (1995)</td>\n",
              "      <td>Mystery|Thriller</td>\n",
              "      <td>NaN</td>\n",
              "      <td>NaN</td>\n",
              "      <td>0</td>\n",
              "      <td>0</td>\n",
              "      <td>...</td>\n",
              "      <td>1</td>\n",
              "      <td>0</td>\n",
              "      <td>0</td>\n",
              "      <td>1</td>\n",
              "      <td>0</td>\n",
              "      <td>0</td>\n",
              "      <td>3.980392</td>\n",
              "      <td>4</td>\n",
              "      <td>4.366379</td>\n",
              "      <td>232</td>\n",
              "    </tr>\n",
              "    <tr>\n",
              "      <th>4</th>\n",
              "      <td>1</td>\n",
              "      <td>50</td>\n",
              "      <td>5.0</td>\n",
              "      <td>964982931</td>\n",
              "      <td>Usual Suspects, The (1995)</td>\n",
              "      <td>Crime|Mystery|Thriller</td>\n",
              "      <td>NaN</td>\n",
              "      <td>NaN</td>\n",
              "      <td>0</td>\n",
              "      <td>0</td>\n",
              "      <td>...</td>\n",
              "      <td>1</td>\n",
              "      <td>0</td>\n",
              "      <td>0</td>\n",
              "      <td>1</td>\n",
              "      <td>0</td>\n",
              "      <td>0</td>\n",
              "      <td>4.252404</td>\n",
              "      <td>4</td>\n",
              "      <td>4.366379</td>\n",
              "      <td>232</td>\n",
              "    </tr>\n",
              "  </tbody>\n",
              "</table>\n",
              "<p>5 rows × 32 columns</p>\n",
              "</div>\n",
              "    <div class=\"colab-df-buttons\">\n",
              "\n",
              "  <div class=\"colab-df-container\">\n",
              "    <button class=\"colab-df-convert\" onclick=\"convertToInteractive('df-36664369-96cf-455a-8705-311f5c83e7e7')\"\n",
              "            title=\"Convert this dataframe to an interactive table.\"\n",
              "            style=\"display:none;\">\n",
              "\n",
              "  <svg xmlns=\"http://www.w3.org/2000/svg\" height=\"24px\" viewBox=\"0 -960 960 960\">\n",
              "    <path d=\"M120-120v-720h720v720H120Zm60-500h600v-160H180v160Zm220 220h160v-160H400v160Zm0 220h160v-160H400v160ZM180-400h160v-160H180v160Zm440 0h160v-160H620v160ZM180-180h160v-160H180v160Zm440 0h160v-160H620v160Z\"/>\n",
              "  </svg>\n",
              "    </button>\n",
              "\n",
              "  <style>\n",
              "    .colab-df-container {\n",
              "      display:flex;\n",
              "      gap: 12px;\n",
              "    }\n",
              "\n",
              "    .colab-df-convert {\n",
              "      background-color: #E8F0FE;\n",
              "      border: none;\n",
              "      border-radius: 50%;\n",
              "      cursor: pointer;\n",
              "      display: none;\n",
              "      fill: #1967D2;\n",
              "      height: 32px;\n",
              "      padding: 0 0 0 0;\n",
              "      width: 32px;\n",
              "    }\n",
              "\n",
              "    .colab-df-convert:hover {\n",
              "      background-color: #E2EBFA;\n",
              "      box-shadow: 0px 1px 2px rgba(60, 64, 67, 0.3), 0px 1px 3px 1px rgba(60, 64, 67, 0.15);\n",
              "      fill: #174EA6;\n",
              "    }\n",
              "\n",
              "    .colab-df-buttons div {\n",
              "      margin-bottom: 4px;\n",
              "    }\n",
              "\n",
              "    [theme=dark] .colab-df-convert {\n",
              "      background-color: #3B4455;\n",
              "      fill: #D2E3FC;\n",
              "    }\n",
              "\n",
              "    [theme=dark] .colab-df-convert:hover {\n",
              "      background-color: #434B5C;\n",
              "      box-shadow: 0px 1px 3px 1px rgba(0, 0, 0, 0.15);\n",
              "      filter: drop-shadow(0px 1px 2px rgba(0, 0, 0, 0.3));\n",
              "      fill: #FFFFFF;\n",
              "    }\n",
              "  </style>\n",
              "\n",
              "    <script>\n",
              "      const buttonEl =\n",
              "        document.querySelector('#df-36664369-96cf-455a-8705-311f5c83e7e7 button.colab-df-convert');\n",
              "      buttonEl.style.display =\n",
              "        google.colab.kernel.accessAllowed ? 'block' : 'none';\n",
              "\n",
              "      async function convertToInteractive(key) {\n",
              "        const element = document.querySelector('#df-36664369-96cf-455a-8705-311f5c83e7e7');\n",
              "        const dataTable =\n",
              "          await google.colab.kernel.invokeFunction('convertToInteractive',\n",
              "                                                    [key], {});\n",
              "        if (!dataTable) return;\n",
              "\n",
              "        const docLinkHtml = 'Like what you see? Visit the ' +\n",
              "          '<a target=\"_blank\" href=https://colab.research.google.com/notebooks/data_table.ipynb>data table notebook</a>'\n",
              "          + ' to learn more about interactive tables.';\n",
              "        element.innerHTML = '';\n",
              "        dataTable['output_type'] = 'display_data';\n",
              "        await google.colab.output.renderOutput(dataTable, element);\n",
              "        const docLink = document.createElement('div');\n",
              "        docLink.innerHTML = docLinkHtml;\n",
              "        element.appendChild(docLink);\n",
              "      }\n",
              "    </script>\n",
              "  </div>\n",
              "\n",
              "\n",
              "<div id=\"df-54fa7e81-47c1-468d-8bd6-eae3298608f2\">\n",
              "  <button class=\"colab-df-quickchart\" onclick=\"quickchart('df-54fa7e81-47c1-468d-8bd6-eae3298608f2')\"\n",
              "            title=\"Suggest charts\"\n",
              "            style=\"display:none;\">\n",
              "\n",
              "<svg xmlns=\"http://www.w3.org/2000/svg\" height=\"24px\"viewBox=\"0 0 24 24\"\n",
              "     width=\"24px\">\n",
              "    <g>\n",
              "        <path d=\"M19 3H5c-1.1 0-2 .9-2 2v14c0 1.1.9 2 2 2h14c1.1 0 2-.9 2-2V5c0-1.1-.9-2-2-2zM9 17H7v-7h2v7zm4 0h-2V7h2v10zm4 0h-2v-4h2v4z\"/>\n",
              "    </g>\n",
              "</svg>\n",
              "  </button>\n",
              "\n",
              "<style>\n",
              "  .colab-df-quickchart {\n",
              "      --bg-color: #E8F0FE;\n",
              "      --fill-color: #1967D2;\n",
              "      --hover-bg-color: #E2EBFA;\n",
              "      --hover-fill-color: #174EA6;\n",
              "      --disabled-fill-color: #AAA;\n",
              "      --disabled-bg-color: #DDD;\n",
              "  }\n",
              "\n",
              "  [theme=dark] .colab-df-quickchart {\n",
              "      --bg-color: #3B4455;\n",
              "      --fill-color: #D2E3FC;\n",
              "      --hover-bg-color: #434B5C;\n",
              "      --hover-fill-color: #FFFFFF;\n",
              "      --disabled-bg-color: #3B4455;\n",
              "      --disabled-fill-color: #666;\n",
              "  }\n",
              "\n",
              "  .colab-df-quickchart {\n",
              "    background-color: var(--bg-color);\n",
              "    border: none;\n",
              "    border-radius: 50%;\n",
              "    cursor: pointer;\n",
              "    display: none;\n",
              "    fill: var(--fill-color);\n",
              "    height: 32px;\n",
              "    padding: 0;\n",
              "    width: 32px;\n",
              "  }\n",
              "\n",
              "  .colab-df-quickchart:hover {\n",
              "    background-color: var(--hover-bg-color);\n",
              "    box-shadow: 0 1px 2px rgba(60, 64, 67, 0.3), 0 1px 3px 1px rgba(60, 64, 67, 0.15);\n",
              "    fill: var(--button-hover-fill-color);\n",
              "  }\n",
              "\n",
              "  .colab-df-quickchart-complete:disabled,\n",
              "  .colab-df-quickchart-complete:disabled:hover {\n",
              "    background-color: var(--disabled-bg-color);\n",
              "    fill: var(--disabled-fill-color);\n",
              "    box-shadow: none;\n",
              "  }\n",
              "\n",
              "  .colab-df-spinner {\n",
              "    border: 2px solid var(--fill-color);\n",
              "    border-color: transparent;\n",
              "    border-bottom-color: var(--fill-color);\n",
              "    animation:\n",
              "      spin 1s steps(1) infinite;\n",
              "  }\n",
              "\n",
              "  @keyframes spin {\n",
              "    0% {\n",
              "      border-color: transparent;\n",
              "      border-bottom-color: var(--fill-color);\n",
              "      border-left-color: var(--fill-color);\n",
              "    }\n",
              "    20% {\n",
              "      border-color: transparent;\n",
              "      border-left-color: var(--fill-color);\n",
              "      border-top-color: var(--fill-color);\n",
              "    }\n",
              "    30% {\n",
              "      border-color: transparent;\n",
              "      border-left-color: var(--fill-color);\n",
              "      border-top-color: var(--fill-color);\n",
              "      border-right-color: var(--fill-color);\n",
              "    }\n",
              "    40% {\n",
              "      border-color: transparent;\n",
              "      border-right-color: var(--fill-color);\n",
              "      border-top-color: var(--fill-color);\n",
              "    }\n",
              "    60% {\n",
              "      border-color: transparent;\n",
              "      border-right-color: var(--fill-color);\n",
              "    }\n",
              "    80% {\n",
              "      border-color: transparent;\n",
              "      border-right-color: var(--fill-color);\n",
              "      border-bottom-color: var(--fill-color);\n",
              "    }\n",
              "    90% {\n",
              "      border-color: transparent;\n",
              "      border-bottom-color: var(--fill-color);\n",
              "    }\n",
              "  }\n",
              "</style>\n",
              "\n",
              "  <script>\n",
              "    async function quickchart(key) {\n",
              "      const quickchartButtonEl =\n",
              "        document.querySelector('#' + key + ' button');\n",
              "      quickchartButtonEl.disabled = true;  // To prevent multiple clicks.\n",
              "      quickchartButtonEl.classList.add('colab-df-spinner');\n",
              "      try {\n",
              "        const charts = await google.colab.kernel.invokeFunction(\n",
              "            'suggestCharts', [key], {});\n",
              "      } catch (error) {\n",
              "        console.error('Error during call to suggestCharts:', error);\n",
              "      }\n",
              "      quickchartButtonEl.classList.remove('colab-df-spinner');\n",
              "      quickchartButtonEl.classList.add('colab-df-quickchart-complete');\n",
              "    }\n",
              "    (() => {\n",
              "      let quickchartButtonEl =\n",
              "        document.querySelector('#df-54fa7e81-47c1-468d-8bd6-eae3298608f2 button');\n",
              "      quickchartButtonEl.style.display =\n",
              "        google.colab.kernel.accessAllowed ? 'block' : 'none';\n",
              "    })();\n",
              "  </script>\n",
              "</div>\n",
              "\n",
              "    </div>\n",
              "  </div>\n"
            ],
            "application/vnd.google.colaboratory.intrinsic+json": {
              "type": "dataframe"
            }
          },
          "metadata": {}
        }
      ]
    },
    {
      "cell_type": "markdown",
      "source": [
        "# Prepare Data for Machine Learning"
      ],
      "metadata": {
        "id": "HF30zUcXSIYI"
      }
    },
    {
      "cell_type": "markdown",
      "source": [
        "Merge with Genre Matrix and Additional Features"
      ],
      "metadata": {
        "id": "WXEOf0mKXbfA"
      }
    },
    {
      "cell_type": "code",
      "source": [
        "df_features = features_full.copy()"
      ],
      "metadata": {
        "id": "xLinmfyIXcYz"
      },
      "execution_count": 18,
      "outputs": []
    },
    {
      "cell_type": "code",
      "source": [
        "drop_cols = ['userId','movieId','title','genres','timestamp','tag']\n",
        "model_data = df_features.drop(columns=drop_cols, errors='ignore')"
      ],
      "metadata": {
        "id": "c3TiM1CfXmX7"
      },
      "execution_count": 19,
      "outputs": []
    },
    {
      "cell_type": "code",
      "source": [
        "# Handle Missing Values After Merging (if any)\n",
        "model_data = model_data.fillna(0)"
      ],
      "metadata": {
        "id": "gQ-iR_ZYXsMf"
      },
      "execution_count": 20,
      "outputs": []
    },
    {
      "cell_type": "markdown",
      "source": [
        "Separate Features (X) and Target (y)"
      ],
      "metadata": {
        "id": "8owlvtjMXxRf"
      }
    },
    {
      "cell_type": "code",
      "source": [
        "\n",
        "X = model_data.drop(columns=['rating'], errors='ignore')\n",
        "y = model_data['rating']\n",
        "\n",
        "print(\"\\nFeatures included in X:\")\n",
        "print(X.columns)\n",
        "print(\"X shape:\", X.shape, \"y shape:\", y.shape)\n"
      ],
      "metadata": {
        "colab": {
          "base_uri": "https://localhost:8080/"
        },
        "id": "P8WRjSe2SQD7",
        "outputId": "ba7abacc-a656-4b7d-8751-15dee14ba94e"
      },
      "execution_count": 21,
      "outputs": [
        {
          "output_type": "stream",
          "name": "stdout",
          "text": [
            "\n",
            "Features included in X:\n",
            "Index(['timestamp_x', 'timestamp_y', '(no genres listed)', 'Action',\n",
            "       'Adventure', 'Animation', 'Children', 'Comedy', 'Crime', 'Documentary',\n",
            "       'Drama', 'Fantasy', 'Film-Noir', 'Horror', 'IMAX', 'Musical', 'Mystery',\n",
            "       'Romance', 'Sci-Fi', 'Thriller', 'War', 'Western', 'avg_rating',\n",
            "       'title_length', 'user_mean_rating', 'user_rating_count'],\n",
            "      dtype='object')\n",
            "X shape: (102677, 26) y shape: (102677,)\n"
          ]
        }
      ]
    },
    {
      "cell_type": "markdown",
      "source": [
        "# Train-Test Split"
      ],
      "metadata": {
        "id": "MNiyz4seVyAq"
      }
    },
    {
      "cell_type": "code",
      "source": [
        "\n",
        "X_train, X_test, y_train, y_test = train_test_split(\n",
        "    X, y, test_size=0.2, random_state=42\n",
        ")\n",
        "\n",
        "print(\"Training set size:\", X_train.shape)\n",
        "print(\"Testing set size:\", X_test.shape)"
      ],
      "metadata": {
        "colab": {
          "base_uri": "https://localhost:8080/"
        },
        "id": "btc7zX_zV0m4",
        "outputId": "fce9edef-3c15-4e1f-fd8a-a49f3ab6ffcc"
      },
      "execution_count": 22,
      "outputs": [
        {
          "output_type": "stream",
          "name": "stdout",
          "text": [
            "Training set size: (82141, 26)\n",
            "Testing set size: (20536, 26)\n"
          ]
        }
      ]
    },
    {
      "cell_type": "markdown",
      "source": [
        "# Machine Learning Models - Random Forest Regressor"
      ],
      "metadata": {
        "id": "WGcGCNghSCk9"
      }
    },
    {
      "cell_type": "code",
      "source": [
        "rf_model = RandomForestRegressor(n_estimators=100, random_state=42)\n",
        "rf_model.fit(X_train, y_train)\n",
        "y_pred_rf = rf_model.predict(X_test)\n",
        "\n",
        "#  Evaluation Metrics\n",
        "rmse_rf = np.sqrt(mean_squared_error(y_test, y_pred_rf))\n",
        "mae_rf = mean_absolute_error(y_test, y_pred_rf)\n",
        "\n",
        "print(\"\\nRandom Forest Regressor Results:\")\n",
        "print(f\"  RMSE: {rmse_rf:.4f}\")\n",
        "print(f\"  MAE : {mae_rf:.4f}\")"
      ],
      "metadata": {
        "colab": {
          "base_uri": "https://localhost:8080/"
        },
        "id": "avHzXYbWSELR",
        "outputId": "dc0c8782-4b0f-4b25-9161-a12a01e46bd8"
      },
      "execution_count": 23,
      "outputs": [
        {
          "output_type": "stream",
          "name": "stdout",
          "text": [
            "\n",
            "Random Forest Regressor Results:\n",
            "  RMSE: 0.7822\n",
            "  MAE : 0.5783\n"
          ]
        }
      ]
    },
    {
      "cell_type": "markdown",
      "source": [
        "# Machine Learning Models - Support Vector Machine Regressor"
      ],
      "metadata": {
        "id": "Hcai_rggV-Ej"
      }
    },
    {
      "cell_type": "code",
      "source": [
        "svm_model = SVR(kernel='rbf', C=1.0, epsilon=0.1)\n",
        "svm_model.fit(X_train, y_train)\n",
        "y_pred_svm = svm_model.predict(X_test)\n",
        "\n",
        "#  Evaluation Metrics\n",
        "rmse_svm = np.sqrt(mean_squared_error(y_test, y_pred_svm))\n",
        "mae_svm = mean_absolute_error(y_test, y_pred_svm)\n",
        "\n",
        "print(\"\\nSupport Vector Machine Regressor Results:\")\n",
        "print(f\"  RMSE: {rmse_svm:.4f}\")\n",
        "print(f\"  MAE : {mae_svm:.4f}\")"
      ],
      "metadata": {
        "id": "hgYwhXwtWBRy"
      },
      "execution_count": null,
      "outputs": []
    },
    {
      "cell_type": "markdown",
      "source": [
        "# Evaluation and Visualization"
      ],
      "metadata": {
        "id": "bx2AuI7sR86w"
      }
    },
    {
      "cell_type": "code",
      "source": [
        "models = ['Random Forest', 'SVM']\n",
        "rmse_scores = [rmse_rf, rmse_svm]\n",
        "mae_scores = [mae_rf, mae_svm]\n",
        "\n",
        "eval_df = pd.DataFrame({\n",
        "    'Model': models,\n",
        "    'RMSE': rmse_scores,\n",
        "    'MAE': mae_scores\n",
        "})\n",
        "\n",
        "print(\"\\nComparison of Model Performance:\")\n",
        "display(eval_df)\n"
      ],
      "metadata": {
        "id": "xh4SioCuSBh3"
      },
      "execution_count": null,
      "outputs": []
    },
    {
      "cell_type": "markdown",
      "source": [
        " Visualization of RMSE and MAE"
      ],
      "metadata": {
        "id": "u7G6blFwXLB7"
      }
    },
    {
      "cell_type": "code",
      "source": [
        "plt.figure(figsize=(12,6))\n",
        "\n",
        "# RMSE Comparison\n",
        "plt.subplot(1,2,1)\n",
        "sns.barplot(x='Model', y='RMSE', data=eval_df, palette='magma')\n",
        "plt.title(\"RMSE Comparison\")\n",
        "plt.ylabel(\"RMSE\")\n",
        "plt.ylim(0, max(rmse_scores) + 0.5)\n",
        "\n",
        "# MAE Comparison\n",
        "plt.subplot(1,2,2)\n",
        "sns.barplot(x='Model', y='MAE', data=eval_df, palette='magma')\n",
        "plt.title(\"MAE Comparison\")\n",
        "plt.ylabel(\"MAE\")\n",
        "plt.ylim(0, max(mae_scores) + 0.5)\n",
        "\n",
        "plt.tight_layout()\n",
        "plt.show()"
      ],
      "metadata": {
        "id": "GWhb7NprXJEs"
      },
      "execution_count": null,
      "outputs": []
    },
    {
      "cell_type": "markdown",
      "source": [
        "# Feature Importance for Random Forest\n",
        "\n",
        "\n",
        "\n",
        "\n"
      ],
      "metadata": {
        "id": "4eIoCVr1WKFI"
      }
    },
    {
      "cell_type": "code",
      "source": [
        "feature_importances = pd.Series(rf_model.feature_importances_, index=X.columns)\n",
        "top_features = feature_importances.sort_values(ascending=False).head(10)\n",
        "\n",
        "print(\"\\nTop 10 Feature Importances from Random Forest:\")\n",
        "print(top_features)\n",
        "\n",
        "# Plotting Feature Importances\n",
        "plt.figure(figsize=(10,6))\n",
        "sns.barplot(x=top_features.values, y=top_features.index, palette='Blues_d')\n",
        "plt.title(\"Top 10 Feature Importances - Random Forest\")\n",
        "plt.xlabel(\"Importance Score\")\n",
        "plt.ylabel(\"Feature\")\n",
        "plt.show()"
      ],
      "metadata": {
        "id": "5UJNg7s4WaLY"
      },
      "execution_count": null,
      "outputs": []
    },
    {
      "cell_type": "markdown",
      "source": [
        "# Feature Importance for SVM\n",
        "\n"
      ],
      "metadata": {
        "id": "WIPIH0O6WRwM"
      }
    },
    {
      "cell_type": "code",
      "source": [
        "residuals_svm = y_test - y_pred_svm\n",
        "\n",
        "plt.figure(figsize=(8,6))\n",
        "sns.scatterplot(x=y_pred_svm, y=residuals_svm, alpha=0.5, color='orange')\n",
        "plt.axhline(0, color='red', linestyle='--')\n",
        "plt.title(\"Residuals vs Predicted Ratings - SVM\")\n",
        "plt.xlabel(\"Predicted Ratings\")\n",
        "plt.ylabel(\"Residuals\")\n",
        "plt.show()"
      ],
      "metadata": {
        "id": "WA-9522_WFCw"
      },
      "execution_count": null,
      "outputs": []
    }
  ]
}